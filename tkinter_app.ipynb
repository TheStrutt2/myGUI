{
 "cells": [
  {
   "cell_type": "code",
   "execution_count": 2,
   "metadata": {},
   "outputs": [
    {
     "name": "stdout",
     "output_type": "stream",
     "text": [
      "Hello Membrane Biophysics!\n",
      "Hello Membrane Biophysics!\n",
      "Hello Membrane Biophysics!\n",
      "Hello Membrane Biophysics!\n"
     ]
    }
   ],
   "source": [
    "from tkinter import *\n",
    "\n",
    "\n",
    "class MyButtons:              #master refers to the main window\n",
    "    def __init__(self, master): #special kind of function - initialises without objects\n",
    "        frame = Frame(master)\n",
    "        frame.pack()\n",
    "        \n",
    "        self.printButton = Button(frame, text='Hi there', command=self.printmessage)\n",
    "        self.printButton.pack(side=LEFT)\n",
    "        \n",
    "        self.quitbutton = Button(frame, text='Quit', command=master.destroy) # function already in tkinter to close programme\n",
    "        self.quitbutton.pack(side=LEFT)\n",
    "    def printmessage(self):\n",
    "        print('Hello one and all!')\n",
    "        \n",
    "root =Tk()\n",
    "b = MyButtons(root)   #object allows us to access the class\n",
    "root.mainloop()"
   ]
  },
  {
   "cell_type": "code",
   "execution_count": null,
   "metadata": {},
   "outputs": [],
   "source": []
  }
 ],
 "metadata": {
  "kernelspec": {
   "display_name": "Python 3",
   "language": "python",
   "name": "python3"
  },
  "language_info": {
   "codemirror_mode": {
    "name": "ipython",
    "version": 3
   },
   "file_extension": ".py",
   "mimetype": "text/x-python",
   "name": "python",
   "nbconvert_exporter": "python",
   "pygments_lexer": "ipython3",
   "version": "3.6.5"
  }
 },
 "nbformat": 4,
 "nbformat_minor": 2
}
